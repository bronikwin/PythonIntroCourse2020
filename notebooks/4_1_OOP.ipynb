{
 "cells": [
  {
   "cell_type": "markdown",
   "metadata": {
    "collapsed": true
   },
   "source": [
    "# Объектно-ориентированное программирование\n",
    "## Что такое?\n",
    "\n",
    "### Процедурное программирование\n",
    "Код, который люди обычно представляют при слове \"программирование\".\n",
    "В рамках такого подхода **функция** — это мини-программа, которая получает на вход какие-то данные, что-то делает внутри себя и может отдавать какие-то данные в результате вычислений (а может и быть процедурой, которая ничего не выдаёт, а лишь выполняет набор команд). Т.е. это такой упакованный в коробку конвейер.\n",
    "\n",
    "Функции полезны, когда нужно упаковать много команд в одну.\n",
    "\n",
    "<img src=\"imgs/OOP2.jpg\" width=\"600\"/>\n",
    "\n",
    "### Что с ним не так?\n",
    "\n",
    "Процедурное программирование идеально работает в простых программах, где все задачи можно решить, грубо говоря, десятком функций. Функции аккуратно вложены друг в друга, взаимодействуют друг с другом, можно передать данные из одной функции в другую.\n",
    "\n",
    "Проблема возникает, когда потребуется реализовывать несколько похожих функций, немного отличающихся своим функционалом или данными, с которыми они работают.\n",
    "\n",
    "Изменение функционала старой функции может либо сломать код во всех других местах, где она используется, \n",
    "\n",
    "<img src=\"imgs/OOP3.jpg\" width=\"600\"/>\n",
    "\n",
    "либо писать десятки новых клонированных функций, давать им имена в стиле *func_send_email_modified_old_data_type*, в которых вы поначалу будете разбираться, а затем всё превратится в т.н. \"спагетти-код\"\n",
    "\n",
    "<img src=\"imgs/OOP4.jpg\" width=\"600\"/>\n",
    "\n",
    "### Объектно-ориентированное программирование\n",
    "\n",
    "Основная задача ООП — сделать сложный код проще. Для этого программу разбивают на независимые блоки, которые мы называем объектами.\n",
    "\n",
    "Объект — это не какая-то космическая сущность. Это всего лишь набор данных и функций — таких же, как в традиционном функциональном программировании. Можно представить, что просто взяли кусок программы и положили его в коробку и закрыли крышку. Вот эта коробка с крышками — это объект.\n",
    "\n",
    "<img src=\"imgs/OOP1.jpg\" width=\"600\"/>\n",
    "\n",
    "Программисты договорились, что данные внутри объекта будут называться свойствами, а функции — методами. Но это просто слова, по сути это те же переменные и функции.\n",
    "\n",
    "Хорошая аналогия для объектов - объекты материальные объекты в нашем мире. Объект можно представить как независимый электроприбор у вас на кухне. Чайник кипятит воду, плита греет, блендер взбивает, мясорубка делает фарш. Внутри каждого устройства куча всего: моторы, контроллеры, кнопки, пружины, предохранители — но вы о них не думаете. Вы нажимаете кнопки на панели каждого прибора, и он делает то, что от него ожидается. И благодаря совместной работе этих приборов у вас получается ужин.\n",
    "\n",
    "Картинки подсмортел в статье журнала [КОД](https://thecode.media/objective/)\n",
    "\n",
    "**Узнаем, как это работает в Python**"
   ]
  },
  {
   "cell_type": "code",
   "execution_count": 5,
   "metadata": {},
   "outputs": [],
   "source": [
    "# в Python всё - это объекты. Просто нередко процесс создания объектов скрыт в упрощённом синтаксисе\n",
    "# создадим переменную n\n",
    "n = 5.5"
   ]
  },
  {
   "cell_type": "code",
   "execution_count": 6,
   "metadata": {},
   "outputs": [
    {
     "data": {
      "text/plain": [
       "float"
      ]
     },
     "execution_count": 6,
     "metadata": {},
     "output_type": "execute_result"
    }
   ],
   "source": [
    "# переменная n - объект класса (типа) float. Класс и тип в Python - одно и то же\n",
    "type(n)"
   ]
  },
  {
   "cell_type": "code",
   "execution_count": 7,
   "metadata": {},
   "outputs": [
    {
     "data": {
      "text/plain": [
       "False"
      ]
     },
     "execution_count": 7,
     "metadata": {},
     "output_type": "execute_result"
    }
   ],
   "source": [
    "# у класса (типа) float существует набор применимых ко всем его объектам методов, например\n",
    "n.is_integer()"
   ]
  },
  {
   "cell_type": "code",
   "execution_count": 8,
   "metadata": {},
   "outputs": [
    {
     "ename": "AttributeError",
     "evalue": "'int' object has no attribute 'is_integer'",
     "output_type": "error",
     "traceback": [
      "\u001b[1;31m---------------------------------------------------------------------------\u001b[0m",
      "\u001b[1;31mAttributeError\u001b[0m                            Traceback (most recent call last)",
      "\u001b[1;32m<ipython-input-8-ab1dd8dda7de>\u001b[0m in \u001b[0;36m<module>\u001b[1;34m\u001b[0m\n\u001b[0;32m      1\u001b[0m \u001b[1;31m# при этом, реализация этого метода может отсутствовать у других классов\u001b[0m\u001b[1;33m\u001b[0m\u001b[1;33m\u001b[0m\u001b[1;33m\u001b[0m\u001b[0m\n\u001b[0;32m      2\u001b[0m \u001b[0mk\u001b[0m \u001b[1;33m=\u001b[0m \u001b[1;36m5\u001b[0m\u001b[1;33m\u001b[0m\u001b[1;33m\u001b[0m\u001b[0m\n\u001b[1;32m----> 3\u001b[1;33m \u001b[0mk\u001b[0m\u001b[1;33m.\u001b[0m\u001b[0mis_integer\u001b[0m\u001b[1;33m(\u001b[0m\u001b[1;33m)\u001b[0m\u001b[1;33m\u001b[0m\u001b[1;33m\u001b[0m\u001b[0m\n\u001b[0m",
      "\u001b[1;31mAttributeError\u001b[0m: 'int' object has no attribute 'is_integer'"
     ]
    }
   ],
   "source": [
    "# при этом, реализация этого метода может отсутствовать у других классов\n",
    "k = 5\n",
    "k.is_integer()"
   ]
  },
  {
   "cell_type": "code",
   "execution_count": 10,
   "metadata": {},
   "outputs": [],
   "source": [
    "# у некоторых классов реализованы некоторые методы с одними и теми же названиями (метод \"перегружен\")\n",
    "# в таких случаях подразумевается, что и функционировать они будут одинаково\n",
    "\n",
    "# например, для списка l\n",
    "l = [1,3,5,4,2]\n",
    "\n",
    "# и строки s\n",
    "s = \"13542\""
   ]
  },
  {
   "cell_type": "code",
   "execution_count": 11,
   "metadata": {},
   "outputs": [
    {
     "name": "stdout",
     "output_type": "stream",
     "text": [
      "2\n",
      "2\n"
     ]
    }
   ],
   "source": [
    "# в Python определён метод sort\n",
    "\n",
    "print(l.index(5))\n",
    "print(s.index(\"5\"))"
   ]
  },
  {
   "cell_type": "markdown",
   "metadata": {},
   "source": [
    "## Объект\n",
    "Представляет собой реализацию некоторого класса (типа). Класс и тип в Python - одно и то же\n",
    "\n",
    "Например, конкретная **буханка хлеба**, которая лежит у в вашей продуктовой корзине - объект.\n",
    "\n",
    "<img src=\"imgs/OOP5.png\" width=\"600\"/>\n",
    "\n",
    "Объект содержит данные (поля/атрибуты). Например, конкретная **буханка хлеба** имеет конкретные значения:\n",
    "* веса\n",
    "* цены\n",
    "* срока годности\n",
    "* названия фирмы\n",
    "\n",
    "Также к объекту применимы некоторые специфические функции - методы его класса.\n",
    "\n",
    "## Класс\n",
    "Класс - формализованное описание того, какими могут быть объекты этого класса:\n",
    "* какие у них могут существовать атрибуты\n",
    "* какое, возможно, будет значение у этих артибутов по-умолчанию\n",
    "* какие методы будут применимы для этого объекта\n",
    "\n",
    "Для того, чтобы создать объект (т.е. экземпляр класса), потребуется описать сам класс.\n",
    "\n",
    "Например, у **буханки хлеба**, которая лежит у в вашей продуктовой корзине, может быть конкретный класс - **\"Хлеб\"**. Или **\"Дарницкий Хлеб\"**. Или **\"Хлеб из магазина пятёрочка\"**. И т.д.\n",
    "\n",
    "<img src=\"imgs/OOP6.png\" width=\"600\"/>"
   ]
  },
  {
   "cell_type": "code",
   "execution_count": 12,
   "metadata": {},
   "outputs": [],
   "source": [
    "# настояшее описание класса в Python происходит с помощью ключевого слова Class\n",
    "# например, очень скучный класс-хлеб\n",
    "# Объекты в Python принято именовать с большой буквы\n",
    "\n",
    "class Bread():\n",
    "    pass"
   ]
  },
  {
   "cell_type": "code",
   "execution_count": 13,
   "metadata": {},
   "outputs": [
    {
     "data": {
      "text/plain": [
       "__main__.Bread"
      ]
     },
     "execution_count": 13,
     "metadata": {},
     "output_type": "execute_result"
    }
   ],
   "source": [
    "# говорим, что хотим создать объект класса Bread\n",
    "bread_loaf = Bread()\n",
    "\n",
    "# и его тип - это действительно Bread!\n",
    "type(bread_loaf)"
   ]
  },
  {
   "cell_type": "markdown",
   "metadata": {},
   "source": [
    "Но что, если при создании своего нового хлеба я хочу сразу создавать атрибуты объекта?\n",
    "\n",
    "Например, когда я создаю хлеб, я хочу, чтобы все знали, что количество хлеба - 1 шт.\n",
    "\n",
    "Для этого необходимо добавить функцию-конструкторю Конструктор вызываться каждый раз, когда я буду создавать новый объект класса **Bread**, вызывая Bread().\n",
    "\n",
    "<img src=\"imgs/OOP7.jpg\" width=\"600\"/>"
   ]
  },
  {
   "cell_type": "code",
   "execution_count": 14,
   "metadata": {},
   "outputs": [],
   "source": [
    "# в Python для этого используется стрёмного вида функция __init__\n",
    "# которая всегда принимает на вход аргумент self и другие произвольные аргументы\n",
    "\n",
    "class Bread():\n",
    "    def __init__(self):\n",
    "        self.quantity = 1        \n",
    "        # self заменяет собой название конкретного объекта, который вы затем создадите\n",
    "        # например, в ячейках ниже self заменяет объекты bread_loaf, либо bread_loaf_2"
   ]
  },
  {
   "cell_type": "code",
   "execution_count": 15,
   "metadata": {},
   "outputs": [],
   "source": [
    "# в момент создания каждого объекта вызывается функция __init__\n",
    "\n",
    "# тут - __init__(bread_loaf)\n",
    "bread_loaf = Bread()\n",
    "\n",
    "# тут - __init__(bread_loaf_2)\n",
    "bread_loaf_2 = Bread()"
   ]
  },
  {
   "cell_type": "code",
   "execution_count": 16,
   "metadata": {},
   "outputs": [
    {
     "data": {
      "text/plain": [
       "1"
      ]
     },
     "execution_count": 16,
     "metadata": {},
     "output_type": "execute_result"
    }
   ],
   "source": [
    "bread_loaf.quantity"
   ]
  },
  {
   "cell_type": "code",
   "execution_count": 17,
   "metadata": {},
   "outputs": [
    {
     "data": {
      "text/plain": [
       "1"
      ]
     },
     "execution_count": 17,
     "metadata": {},
     "output_type": "execute_result"
    }
   ],
   "source": [
    "bread_loaf_2.quantity"
   ]
  },
  {
   "cell_type": "code",
   "execution_count": 18,
   "metadata": {},
   "outputs": [
    {
     "data": {
      "text/plain": [
       "2"
      ]
     },
     "execution_count": 18,
     "metadata": {},
     "output_type": "execute_result"
    }
   ],
   "source": [
    "# мы можем изменить атрибут quantity\n",
    "bread_loaf_2.quantity = 2\n",
    "bread_loaf_2.quantity\n",
    "\n",
    "# однако не рекомендуется так делать. В ООП рекомендуется создавать специальные методы (свойства)\n",
    "# изменяющие конкретные атрибуты объекта, исходя из того, что конкретно пользователь хочет сделать с объектом"
   ]
  },
  {
   "cell_type": "code",
   "execution_count": 19,
   "metadata": {},
   "outputs": [
    {
     "data": {
      "text/plain": [
       "[5]"
      ]
     },
     "execution_count": 19,
     "metadata": {},
     "output_type": "execute_result"
    }
   ],
   "source": [
    "# например, для объекта класса list метод append меняет многие атрибуты конкретного списка, добавляя новые элементы\n",
    "l = []\n",
    "l.append(5)\n",
    "l"
   ]
  },
  {
   "cell_type": "code",
   "execution_count": 20,
   "metadata": {},
   "outputs": [],
   "source": [
    "# мы можем хотеть передать конструктору некоторые аргументы при создании класса\n",
    "class Bread():\n",
    "#     тут name - аргумент функции-конструктора\n",
    "    def __init__(self, name):\n",
    "        self.quantity = 1\n",
    "#         тут name слева - атрибут класса Bread, справа - аргумент функции-конструктора\n",
    "        self.name = name"
   ]
  },
  {
   "cell_type": "code",
   "execution_count": 21,
   "metadata": {},
   "outputs": [],
   "source": [
    "# как и в функциях, имена аргументов можно передавать конструктору как по-порядку\n",
    "bread_loaf_1 = Bread(\"Дарницкий\")\n",
    "\n",
    "# так и по названию\n",
    "bread_loaf_2 = Bread(name=\"Голландский\")"
   ]
  },
  {
   "cell_type": "code",
   "execution_count": 22,
   "metadata": {},
   "outputs": [
    {
     "name": "stdout",
     "output_type": "stream",
     "text": [
      "Дарницкий\n",
      "Голландский\n"
     ]
    }
   ],
   "source": [
    "print(bread_loaf_1.name)\n",
    "print(bread_loaf_2.name)"
   ]
  },
  {
   "cell_type": "code",
   "execution_count": 24,
   "metadata": {},
   "outputs": [],
   "source": [
    "# можно попросить функцию-конструктор ещё и сделать что-нибудь\n",
    "# например, в конце создания объекта напечатать, что объект создан\n",
    "# зависит от вашей фантазии\n",
    "\n",
    "class Bread():\n",
    "    def __init__(self, name):\n",
    "        self.quantity = 1\n",
    "        self.name = name\n",
    "        print(f\"Создан новый Хлеб с именем {name}\")    "
   ]
  },
  {
   "cell_type": "code",
   "execution_count": 25,
   "metadata": {},
   "outputs": [
    {
     "name": "stdout",
     "output_type": "stream",
     "text": [
      "Создан новый Хлеб с именем Голландский\n"
     ]
    }
   ],
   "source": [
    "bread_loaf = Bread(name=\"Голландский\")"
   ]
  },
  {
   "cell_type": "markdown",
   "metadata": {},
   "source": [
    "## Методы\n",
    "Функции, в большинстве случаев применимые только к объектам этого класса.\n",
    "Методы могут добавлять новые атрибуты, менять их, ничего не делать с атрибутами объекта, создавать новые объекты и т.д.\n",
    "\n",
    "Главное, что в основном они используют хотя бы какие-то данные объекта, к которому метод применён. У такого метода первым аргументом должен всегда быть **self** (т.е. это *метод объекта*)\n",
    "\n",
    "Методы, которые не требуют данных конкретного объекта, называются статическими (*метод класса*). Они создаются в основном, чтобы присутствовать в одном и том же модуле, что и описание самого объекта, чтобы не допускать путаницы при импортировании, пока не будем о них.\n"
   ]
  },
  {
   "cell_type": "code",
   "execution_count": 26,
   "metadata": {},
   "outputs": [],
   "source": [
    "# например, в прошлый раз о создании объекта выкрикивал конструктор\n",
    "# пусть это будет делать новый метод\n",
    "class Bread():\n",
    "    def __init__(self, name):\n",
    "        self.quantity = 1\n",
    "        self.name = name\n",
    "        \n",
    "        \n",
    "    def say_my_name(self):\n",
    "        print(f\"Я - Хлеб! И моё имя - {self.name}\")        "
   ]
  },
  {
   "cell_type": "code",
   "execution_count": 27,
   "metadata": {},
   "outputs": [
    {
     "name": "stdout",
     "output_type": "stream",
     "text": [
      "Я - Хлеб! И моё имя - Голландский\n"
     ]
    }
   ],
   "source": [
    "bread_loaf = Bread(name=\"Голландский\")\n",
    "bread_loaf.say_my_name()"
   ]
  },
  {
   "cell_type": "code",
   "execution_count": 28,
   "metadata": {},
   "outputs": [],
   "source": [
    "# можно добавить методу другие аргументы\n",
    "\n",
    "class Bread():\n",
    "    def __init__(self, name):\n",
    "        self.quantity = 1\n",
    "        self.name = name\n",
    "        \n",
    "        \n",
    "    def say_my_name(self, misc_info):\n",
    "        print(f\"Я - Хлеб! И моё имя - {self.name}\")      \n",
    "        print(f\"+ меня попросили сказать: {misc_info}\")"
   ]
  },
  {
   "cell_type": "code",
   "execution_count": 29,
   "metadata": {},
   "outputs": [
    {
     "name": "stdout",
     "output_type": "stream",
     "text": [
      "Я - Хлеб! И моё имя - Голландский\n",
      "+ меня попросили сказать: что я вкуснее Дарницкого хлеба\n"
     ]
    }
   ],
   "source": [
    "bread_loaf = Bread(name=\"Голландский\")\n",
    "bread_loaf.say_my_name(\"что я вкуснее Дарницкого хлеба\")"
   ]
  },
  {
   "cell_type": "markdown",
   "metadata": {},
   "source": [
    "## По поводу self\n",
    "\n",
    "Дописывать self в качестве аргумента большинства методов раздражает. Однако вот, что происходит на самом деле, когда вы вызываете метод bread_loaf.say_my_name(\"...\")"
   ]
  },
  {
   "cell_type": "code",
   "execution_count": 30,
   "metadata": {},
   "outputs": [
    {
     "name": "stdout",
     "output_type": "stream",
     "text": [
      "Я - Хлеб! И моё имя - Голландский\n",
      "+ меня попросили сказать: ...\n"
     ]
    }
   ],
   "source": [
    "# на деле, метод определён не для объекта, а для класса\n",
    "# сам же объект действительно используется как аргумент\n",
    "# любой метод действительно можно вызвать от класса, указав в качестве аргумента конкретный объект\n",
    "\n",
    "# это логически более правильная, но длинная и неудобная форма записи\n",
    "Bread.say_my_name(bread_loaf, \"...\")"
   ]
  },
  {
   "cell_type": "markdown",
   "metadata": {},
   "source": [
    "## Наследование\n",
    "\n",
    "Пока мы так и не решили проблему процедурного программирования с созданием множества похожих функций.\n",
    "Предположим, мне необходимо создать похожий объект, к которому могут быть применимы те же методы, либо те же методы, но их функционал будет отличаться.\n",
    "\n",
    "Наследование может сослужить хорошую службу, когда треуется созлать класс-потомок, который будет вести себя как родительский класс *большую часть времени*.\n",
    "\n",
    "Для этого воспользуемся наследованием Python, при котором новый объект унаследует все методы и конструктор класса-родителя.\n",
    "\n",
    "Например, когда нас просят купить половину хлеба - это тоже хлеб, так что ..."
   ]
  },
  {
   "cell_type": "code",
   "execution_count": 31,
   "metadata": {},
   "outputs": [],
   "source": [
    "class half_Bread(Bread):\n",
    "    pass"
   ]
  },
  {
   "cell_type": "code",
   "execution_count": 32,
   "metadata": {},
   "outputs": [
    {
     "ename": "TypeError",
     "evalue": "__init__() missing 1 required positional argument: 'name'",
     "output_type": "error",
     "traceback": [
      "\u001b[1;31m---------------------------------------------------------------------------\u001b[0m",
      "\u001b[1;31mTypeError\u001b[0m                                 Traceback (most recent call last)",
      "\u001b[1;32m<ipython-input-32-1800aef109d7>\u001b[0m in \u001b[0;36m<module>\u001b[1;34m\u001b[0m\n\u001b[0;32m      1\u001b[0m \u001b[1;31m# т.к. конструктор класса наследуется и будет тот же, интерпретатор ожидает таких же аргументов, что и в классе Bread\u001b[0m\u001b[1;33m\u001b[0m\u001b[1;33m\u001b[0m\u001b[1;33m\u001b[0m\u001b[0m\n\u001b[1;32m----> 2\u001b[1;33m \u001b[0mhalf_bread_loaf\u001b[0m \u001b[1;33m=\u001b[0m \u001b[0mhalf_Bread\u001b[0m\u001b[1;33m(\u001b[0m\u001b[1;33m)\u001b[0m\u001b[1;33m\u001b[0m\u001b[1;33m\u001b[0m\u001b[0m\n\u001b[0m",
      "\u001b[1;31mTypeError\u001b[0m: __init__() missing 1 required positional argument: 'name'"
     ]
    }
   ],
   "source": [
    "# т.к. конструктор класса наследуется и будет тот же, интерпретатор ожидает таких же аргументов, что и в классе Bread\n",
    "half_bread_loaf = half_Bread()"
   ]
  },
  {
   "cell_type": "code",
   "execution_count": 33,
   "metadata": {},
   "outputs": [
    {
     "data": {
      "text/plain": [
       "__main__.half_Bread"
      ]
     },
     "execution_count": 33,
     "metadata": {},
     "output_type": "execute_result"
    }
   ],
   "source": [
    "half_bread_loaf = half_Bread(name=\"Голландский\")\n",
    "type(half_bread_loaf)"
   ]
  },
  {
   "cell_type": "code",
   "execution_count": 34,
   "metadata": {},
   "outputs": [
    {
     "name": "stdout",
     "output_type": "stream",
     "text": [
      "Я - Хлеб! И моё имя - Голландский\n",
      "+ меня попросили сказать: что я вкуснее Дарницкого хлеба, хотя я и половинка ...\n"
     ]
    }
   ],
   "source": [
    "# к нему применимы те же методы, что и к объектам типа Bread\n",
    "half_bread_loaf.say_my_name(\"что я вкуснее Дарницкого хлеба, хотя я и половинка ...\")"
   ]
  },
  {
   "cell_type": "code",
   "execution_count": 35,
   "metadata": {},
   "outputs": [],
   "source": [
    "# так а как же изменение похожих функций? Давайте переопределим унаследованный метод (\"перегрузим\" его)\n",
    "# название метода останется тем же, фукнционал - другим\n",
    "# причём, набор аргументов также может быть другим\n",
    "\n",
    "class half_Bread(Bread):\n",
    "    def say_my_name(self):\n",
    "        print(f\"Я - Половинка Хлеба! И моё имя - {self.name}\")   "
   ]
  },
  {
   "cell_type": "code",
   "execution_count": 36,
   "metadata": {},
   "outputs": [
    {
     "name": "stdout",
     "output_type": "stream",
     "text": [
      "Я - Хлеб! И моё имя - Голландский\n",
      "+ меня попросили сказать: что я вкуснее Дарницкого хлеба\n"
     ]
    }
   ],
   "source": [
    "# как было у объекта класса-родителя\n",
    "bread_loaf = Bread(name=\"Голландский\")\n",
    "bread_loaf.say_my_name(\"что я вкуснее Дарницкого хлеба\")"
   ]
  },
  {
   "cell_type": "code",
   "execution_count": 37,
   "metadata": {},
   "outputs": [
    {
     "name": "stdout",
     "output_type": "stream",
     "text": [
      "Я - Половинка Хлеба! И моё имя - Голландский\n"
     ]
    }
   ],
   "source": [
    "# как стало у объекта класса-потомка\n",
    "half_bread_loaf = half_Bread(name=\"Голландский\")\n",
    "half_bread_loaf.say_my_name()"
   ]
  },
  {
   "cell_type": "markdown",
   "metadata": {},
   "source": [
    "Будь у класса-родителя Bread другие методы, они остались бы нетронутыми у класса-потомка. Однако, в класс-потомок всегда можно добавить новые методы, которых не было у родителя."
   ]
  },
  {
   "cell_type": "code",
   "execution_count": 38,
   "metadata": {},
   "outputs": [],
   "source": [
    "# например, можно сложить две половинки хлеба, и получить одну\n",
    "class half_Bread(Bread):\n",
    "    def merge(self, second_half_bread):\n",
    "        if self.name==second_half_bread.name:\n",
    "            merged_name = self.name\n",
    "        else:\n",
    "            merged_name = \"Хлеб-полукровка\"\n",
    "            \n",
    "        merged_bread = Bread(name=merged_name)        \n",
    "        return merged_bread"
   ]
  },
  {
   "cell_type": "code",
   "execution_count": 39,
   "metadata": {},
   "outputs": [
    {
     "ename": "AttributeError",
     "evalue": "'Bread' object has no attribute 'merge'",
     "output_type": "error",
     "traceback": [
      "\u001b[1;31m---------------------------------------------------------------------------\u001b[0m",
      "\u001b[1;31mAttributeError\u001b[0m                            Traceback (most recent call last)",
      "\u001b[1;32m<ipython-input-39-410ddb937ad5>\u001b[0m in \u001b[0;36m<module>\u001b[1;34m\u001b[0m\n\u001b[0;32m      2\u001b[0m \u001b[0mbread_loaf_1\u001b[0m \u001b[1;33m=\u001b[0m \u001b[0mBread\u001b[0m\u001b[1;33m(\u001b[0m\u001b[0mname\u001b[0m\u001b[1;33m=\u001b[0m\u001b[1;34m\"Голландский\"\u001b[0m\u001b[1;33m)\u001b[0m\u001b[1;33m\u001b[0m\u001b[1;33m\u001b[0m\u001b[0m\n\u001b[0;32m      3\u001b[0m \u001b[0mbread_loaf_2\u001b[0m \u001b[1;33m=\u001b[0m \u001b[0mBread\u001b[0m\u001b[1;33m(\u001b[0m\u001b[0mname\u001b[0m\u001b[1;33m=\u001b[0m\u001b[1;34m\"Голландский\"\u001b[0m\u001b[1;33m)\u001b[0m\u001b[1;33m\u001b[0m\u001b[1;33m\u001b[0m\u001b[0m\n\u001b[1;32m----> 4\u001b[1;33m \u001b[0mbread_loaf_1\u001b[0m\u001b[1;33m.\u001b[0m\u001b[0mmerge\u001b[0m\u001b[1;33m(\u001b[0m\u001b[0mbread_loaf_2\u001b[0m\u001b[1;33m)\u001b[0m\u001b[1;33m\u001b[0m\u001b[1;33m\u001b[0m\u001b[0m\n\u001b[0m",
      "\u001b[1;31mAttributeError\u001b[0m: 'Bread' object has no attribute 'merge'"
     ]
    }
   ],
   "source": [
    "# Я не смогу соединить два хлеба\n",
    "bread_loaf_1 = Bread(name=\"Голландский\")\n",
    "bread_loaf_2 = Bread(name=\"Голландский\")\n",
    "bread_loaf_1.merge(bread_loaf_2)"
   ]
  },
  {
   "cell_type": "code",
   "execution_count": 40,
   "metadata": {},
   "outputs": [
    {
     "name": "stdout",
     "output_type": "stream",
     "text": [
      "Я - Хлеб! И моё имя - Хлеб-полукровка\n",
      "+ меня попросили сказать: ...\n"
     ]
    }
   ],
   "source": [
    "# но смогу соединить две половинки хлеба\n",
    "half_bread_loaf_1 = half_Bread(name=\"Голландский\")\n",
    "half_bread_loaf_2 = half_Bread(name=\"Дарницкий\")\n",
    "\n",
    "merged_bread = half_bread_loaf_1.merge(half_bread_loaf_2)\n",
    "merged_bread.say_my_name(\"...\")"
   ]
  },
  {
   "cell_type": "code",
   "execution_count": null,
   "metadata": {},
   "outputs": [],
   "source": [
    "# использование super(). для доступа к методу класса-родителя"
   ]
  },
  {
   "cell_type": "markdown",
   "metadata": {},
   "source": [
    "## Наследование по умолчанию\n",
    "Начиная с Python 2.2, все классы неявно наследуются от object класса , который является базовым классом для всех встроенных типов"
   ]
  },
  {
   "cell_type": "code",
   "execution_count": 29,
   "metadata": {},
   "outputs": [
    {
     "name": "stdout",
     "output_type": "stream",
     "text": [
      "(<class 'object'>,)\n"
     ]
    }
   ],
   "source": [
    "# раньше нужно было писать\n",
    "class Bread(object):\n",
    "    def get_name(self):\n",
    "        print(super().__class__.__bases__)\n",
    "\n",
    "# Bread.__class__.__bases__\n",
    "b = Bread()\n",
    "b.get_name()"
   ]
  },
  {
   "cell_type": "code",
   "execution_count": 30,
   "metadata": {},
   "outputs": [
    {
     "name": "stdout",
     "output_type": "stream",
     "text": [
      "(<class 'object'>,)\n"
     ]
    }
   ],
   "source": [
    "# теперь можно писать\n",
    "class Bread():\n",
    "    def get_name(self):\n",
    "        print(super().__class__.__bases__)\n",
    "\n",
    "# Bread.__class__.__bases__\n",
    "b = Bread()\n",
    "b.get_name()"
   ]
  },
  {
   "cell_type": "markdown",
   "metadata": {},
   "source": [
    "## Композиция (агрегирование)\n",
    "Иногда имеет смысл в ситуациях, когда объекты должны быть связаны, создавать наследование классов, а использовать их композицию: объекты некоторых классов будут являться атрибутами другого класса.\n",
    "\n",
    "Возьмём пример про уток из Любановича:\n",
    "Утка является птицей, но имеет хвост. Хвост не похож на утку, он является частью утки. В следующем примере создадим объекты *bill* и *tail* и предоставим их новому объекту *duck*."
   ]
  },
  {
   "cell_type": "code",
   "execution_count": 41,
   "metadata": {},
   "outputs": [],
   "source": [
    "class Bill():\n",
    "    def __init__(self, description):\n",
    "        self.description = description\n",
    "        \n",
    "class Tail():\n",
    "    def __init__(self, length):\n",
    "        self.length = length\n",
    "        \n",
    "class Duck():\n",
    "    def __init__(self, bill, tail):\n",
    "        # мы подразумеваем, что атрибутами класса Duck будут объекты классов Tail и Bill\n",
    "        # однако, т.к. в Python используется динамическая типизация, мы не можем этого явно прописать\n",
    "        # *на самом деле, можем, но пока об этом не будем\n",
    "        self.bill = bill\n",
    "        self.tail = tail\n",
    "    \n",
    "    \n",
    "    def about(self):\n",
    "        print('This duck has a', bill.description, 'bill and a', tail.length, 'tail')\n",
    "            \n",
    "# к вопросу об утках - в Python используется т.н. \"утиная типизация\", включающая в себя динамическую типизацию\n",
    "# цит. \"Если это выглядит как утка, плавает как утка и крякает как утка, то это, вероятно, и есть утка\""
   ]
  },
  {
   "cell_type": "code",
   "execution_count": 42,
   "metadata": {},
   "outputs": [
    {
     "name": "stdout",
     "output_type": "stream",
     "text": [
      "This duck has a wide orange bill and a long tail\n"
     ]
    }
   ],
   "source": [
    "# теперь создадим объекты классов Tail и Bill и передадим их в конструктор класса Duck\n",
    "# чтобы они стали полями объекта duck\n",
    "\n",
    "tail = Tail('long')\n",
    "bill = Bill('wide orange')\n",
    "duck = Duck(bill, tail)\n",
    "duck.about()"
   ]
  },
  {
   "cell_type": "markdown",
   "metadata": {},
   "source": [
    "## Абстракция, Инкапсуляция, Полиморфизм, Наследование\n"
   ]
  },
  {
   "cell_type": "markdown",
   "metadata": {},
   "source": [
    "## Плюсы и минусы ООП\n",
    "pros:\n",
    "* Визуально код становится проще, и его легче читать. Когда всё разбито на объекты и у них есть понятный набор правил, можно сразу понять, за что отвечает каждый объект и из чего он состоит.\n",
    "* Меньше одинакового кода. Если в обычном программировании одна функция считает повторяющиеся символы в одномерном массиве, а другая — в двумерном, то у них большая часть кода будет одинаковой. В ООП это решается наследованием.\n",
    "* Сложные программы пишутся проще. Каждую большую программу можно разложить на несколько блоков, сделать им минимальное наполнение, а потом раз за разом подробно наполнить каждый блок.\n",
    "* Увеличивается скорость написания. На старте можно быстро создать нужные компоненты внутри программы, чтобы получить минимально работающий прототип.\n",
    "\n",
    "cons:\n",
    "* Сложно понять и начать работать. Подход ООП намного сложнее обычного процедурного программирования — нужно знать много теории, прежде чем будет написана хоть одна строчка кода.\n",
    "* Требует больше памяти. Объекты в ООП состоят из данных, интерфейсов, методов и много другого, а это занимает намного больше памяти, чем простая переменная.\n",
    "* Иногда производительность кода будет ниже. Из-за особенностей подхода часть вещей может быть реализована сложнее, чем могла бы быть. Поэтому бывает такое, что ООП-программа работает медленнее, чем процедурная."
   ]
  },
  {
   "cell_type": "markdown",
   "metadata": {},
   "source": [
    "### [Bonus: Хлеб](https://www.youtube.com/watch?v=V5r3oFlTo0w)"
   ]
  },
  {
   "cell_type": "markdown",
   "metadata": {},
   "source": [
    "# Практика\n",
    "## Ещё раз про классы и объекты (экземпляры классов)\n",
    "\n",
    "Создайте класс **Thing**, не имеющий содержимого. Выведите его наэкран.\n",
    "\n",
    "Создайте объект (экземпляр класса **Thing**) **example**. Выведите его на экран\n",
    "Совпадают ли выведенные значения?"
   ]
  },
  {
   "cell_type": "code",
   "execution_count": 3,
   "metadata": {},
   "outputs": [
    {
     "name": "stdout",
     "output_type": "stream",
     "text": [
      "<class '__main__.Thing'>\n",
      "<__main__.Thing object at 0x00000204A656A670>\n"
     ]
    }
   ],
   "source": [
    "class Thing():\n",
    "    pass\n",
    "\n",
    "example = Thing()\n",
    "print(Thing)\n",
    "print(example)"
   ]
  },
  {
   "cell_type": "markdown",
   "metadata": {},
   "source": [
    "Создайте класс **Shape**, его наследник **Rectangle** и его наследник **Square**.\n",
    "В **Shape** определите метод объекта **area**, возвращающий 0.\n",
    "\n",
    "Класс **Rectangle** принимает в качестве аргументов длину и ширину стороны прямоугольника и присваивает её своим атрибутам, соответственно, **length** и **width** в конструкторе.\n",
    "Класс **Square** принимает в качестве аргументов длину стороны квадрата и присваивает её своему атрибуту **length** в конструкторе.\n",
    "\n",
    "Все классы имеют метод **area**, возвращающий 0 в классе **Shape**, площадь прямоугольника в классе **Rectangle** и площадь квадрата в классе **Square**."
   ]
  },
  {
   "cell_type": "code",
   "execution_count": 37,
   "metadata": {},
   "outputs": [
    {
     "name": "stdout",
     "output_type": "stream",
     "text": [
      "9\n",
      "20\n"
     ]
    }
   ],
   "source": [
    "class Shape():\n",
    "    def __init__(self):\n",
    "        pass\n",
    "\n",
    "    def area(self):\n",
    "        return 0\n",
    "\n",
    "    \n",
    "class Rectangle(Shape):\n",
    "    def __init__(self, l, w):\n",
    "        self.length = l\n",
    "        self.width  = w\n",
    "\n",
    "    def area(self):\n",
    "        return self.length*self.width\n",
    "    \n",
    "    \n",
    "class Square(Rectangle):\n",
    "    def __init__(self, l):\n",
    "        Shape.__init__(self)\n",
    "        self.length = l\n",
    "\n",
    "    def area(self):\n",
    "        return self.length*self.length\n",
    "\n",
    "aSquare= Square(3)\n",
    "print(aSquare.area())\n",
    "\n",
    "aRectangle = Rectangle(2,10)\n",
    "print(aRectangle.area())"
   ]
  }
 ],
 "metadata": {
  "kernelspec": {
   "display_name": "Python 3",
   "language": "python",
   "name": "python3"
  },
  "language_info": {
   "codemirror_mode": {
    "name": "ipython",
    "version": 3
   },
   "file_extension": ".py",
   "mimetype": "text/x-python",
   "name": "python",
   "nbconvert_exporter": "python",
   "pygments_lexer": "ipython3",
   "version": "3.8.3"
  }
 },
 "nbformat": 4,
 "nbformat_minor": 2
}
