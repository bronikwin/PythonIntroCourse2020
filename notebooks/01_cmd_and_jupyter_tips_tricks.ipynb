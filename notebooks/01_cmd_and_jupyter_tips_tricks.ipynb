{
 "cells": [
  {
   "cell_type": "markdown",
   "metadata": {},
   "source": [
    "если вам нужно очистить всё, что вы написали в командной строке, введите:\n",
    "\n",
    "если вы на Windows\n",
    "> cls\n",
    "\n",
    "если вы на Unix\n",
    "> reset"
   ]
  },
  {
   "cell_type": "code",
   "execution_count": 1,
   "metadata": {},
   "outputs": [
    {
     "data": {
      "text/plain": [
       "1"
      ]
     },
     "execution_count": 1,
     "metadata": {},
     "output_type": "execute_result"
    }
   ],
   "source": [
    "# если вы активировали Python в командной строке и написали много кода, который не должен мельтешить перед глазами:\n",
    "\n",
    "# если вы на Windows\n",
    "import os\n",
    "os.system('cls') \n",
    "\n",
    "# если вы на Unix\n",
    "import os\n",
    "os.system('reset') \n",
    "\n",
    "# или нажмите ctrl+L, если вы в IPython"
   ]
  }
 ],
 "metadata": {
  "kernelspec": {
   "display_name": "Python 3",
   "language": "python",
   "name": "python3"
  },
  "language_info": {
   "codemirror_mode": {
    "name": "ipython",
    "version": 3
   },
   "file_extension": ".py",
   "mimetype": "text/x-python",
   "name": "python",
   "nbconvert_exporter": "python",
   "pygments_lexer": "ipython3",
   "version": "3.8.3"
  }
 },
 "nbformat": 4,
 "nbformat_minor": 4
}
